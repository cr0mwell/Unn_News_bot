{
 "cells": [
  {
   "cell_type": "code",
   "execution_count": 1,
   "metadata": {},
   "outputs": [
    {
     "name": "stderr",
     "output_type": "stream",
     "text": [
      "c:\\python3\\lib\\importlib\\_bootstrap.py:219: RuntimeWarning: numpy.ufunc size changed, may indicate binary incompatibility. Expected 192 from C header, got 216 from PyObject\n",
      "  return f(*args, **kwds)\n",
      "c:\\python3\\lib\\importlib\\_bootstrap.py:219: RuntimeWarning: numpy.ufunc size changed, may indicate binary incompatibility. Expected 192 from C header, got 216 from PyObject\n",
      "  return f(*args, **kwds)\n"
     ]
    }
   ],
   "source": [
    "import pandas as pd\n",
    "import numpy as np\n",
    "import matplotlib.pyplot as plt\n",
    "from scipy.sparse import load_npz\n",
    "from sklearn.feature_extraction.text import TfidfVectorizer\n",
    "from sklearn.linear_model import LogisticRegression\n",
    "from sklearn.metrics import f1_score, classification_report\n",
    "from sklearn.model_selection import StratifiedKFold, train_test_split\n",
    "from sklearn.preprocessing import LabelEncoder\n",
    "import lightgbm as lgb\n",
    "\n",
    "import json\n",
    "import os\n",
    "import pickle\n",
    "\n",
    "PROJ_PATH = r'F:\\tmp\\data science\\UnnParserBot'\n",
    "# CLASSES   = ['економіка', 'кримінал', 'культура', 'міжнародні новини', 'позитив', 'політика', 'спорт', 'суспільство', 'технології']\n",
    "CLASSES   = ['економіка', 'кримінал', 'міжнародні новини', 'політика', 'спорт', 'суспільство']"
   ]
  },
  {
   "cell_type": "markdown",
   "metadata": {},
   "source": [
    "## LightGBM"
   ]
  },
  {
   "cell_type": "code",
   "execution_count": 4,
   "metadata": {},
   "outputs": [
    {
     "data": {
      "text/plain": [
       "LabelEncoder()"
      ]
     },
     "execution_count": 4,
     "metadata": {},
     "output_type": "execute_result"
    }
   ],
   "source": [
    "# Loading the dataset, collecting the data\n",
    "all_ds = load_npz(os.path.join(PROJ_PATH, 'src', 'class_data.npz')).tocsr()\n",
    "\n",
    "# Loading the target\n",
    "with open(os.path.join(PROJ_PATH, 'src', 'class_headings.hd'), 'rb') as f:\n",
    "    headings = pickle.load(f)\n",
    "\n",
    "# Loading vectorizers to obtain feature names\n",
    "with open(os.path.join(PROJ_PATH, 'src', 'class_tfidf_w.vct'), 'rb') as f:\n",
    "    tfidf_w = pickle.load(f)\n",
    "    \n",
    "with open(os.path.join(PROJ_PATH, 'src', 'class_tfidf_ch.vct'), 'rb') as f:\n",
    "    tfidf_ch = pickle.load(f)\n",
    "\n",
    "# Collecting feature names\n",
    "tfidf_w_labels  = [k for k,v in sorted(list(tfidf_w.vocabulary_.items()), key=lambda x: x[1])]\n",
    "tfidf_ch_labels = [k for k,v in sorted(list(tfidf_ch.vocabulary_.items()), key=lambda x: x[1])]\n",
    "orig_features   = tfidf_w_labels + tfidf_ch_labels\n",
    "\n",
    "train_ds, test_ds, y_train, y_test = train_test_split(all_ds,\n",
    "                                                      headings,\n",
    "                                                      test_size=0.2,\n",
    "                                                      stratify=headings,\n",
    "                                                      random_state=42)\n",
    "\n",
    "le = LabelEncoder()\n",
    "le.fit(CLASSES)"
   ]
  },
  {
   "cell_type": "code",
   "execution_count": 5,
   "metadata": {},
   "outputs": [],
   "source": [
    "# As lightgbm doesn't support f1-score metric out of the box, creating our own evaluation function\n",
    "# based on sklearn f1-score\n",
    "def my_fscore(y_hat, data):\n",
    "    y_true = data.get_label()\n",
    "    \n",
    "    # y_hat is the preds grouped by class_id first, then group by row_id.\n",
    "    # len(y_true)*parameters['num_class'] records in total\n",
    "    # here we gathering predicted class for each target record\n",
    "    y_pred = [np.argmax(y_hat[i::len(y_true)]) for i in range(len(y_true))]\n",
    "    \n",
    "    # Using weighted-F1 scoring:\n",
    "    # https://towardsdatascience.com/multi-class-metrics-made-simple-part-ii-the-f1-score-ebe8b2c2ca1\n",
    "    return 'f1 score', f1_score(y_true, y_pred, average='macro'), True"
   ]
  },
  {
   "cell_type": "code",
   "execution_count": 6,
   "metadata": {},
   "outputs": [
    {
     "name": "stdout",
     "output_type": "stream",
     "text": [
      "[50]\tcv_agg's train multi_logloss: 0.997386 + 0.000880996\tcv_agg's train f1 score: 0.694965 + 0.0009786\tcv_agg's valid multi_logloss: 1.00961 + 0.00153877\tcv_agg's valid f1 score: 0.685687 + 0.0038743\n",
      "[100]\tcv_agg's train multi_logloss: 0.79881 + 0.000426166\tcv_agg's train f1 score: 0.747169 + 0.0003063\tcv_agg's valid multi_logloss: 0.819292 + 0.000975108\tcv_agg's valid f1 score: 0.734221 + 0.0041026\n",
      "[150]\tcv_agg's train multi_logloss: 0.695742 + 0.000487802\tcv_agg's train f1 score: 0.771523 + 0.00136195\tcv_agg's valid multi_logloss: 0.723939 + 0.000323201\tcv_agg's valid f1 score: 0.756074 + 0.00247695\n",
      "[200]\tcv_agg's train multi_logloss: 0.630612 + 0.000393248\tcv_agg's train f1 score: 0.789056 + 0.000955292\tcv_agg's valid multi_logloss: 0.666113 + 0.00013161\tcv_agg's valid f1 score: 0.769844 + 0.000270059\n",
      "[250]\tcv_agg's train multi_logloss: 0.584596 + 0.000416349\tcv_agg's train f1 score: 0.801226 + 0.000593862\tcv_agg's valid multi_logloss: 0.627156 + 0.000331691\tcv_agg's valid f1 score: 0.779403 + 0.00117356\n",
      "[300]\tcv_agg's train multi_logloss: 0.549731 + 0.000443916\tcv_agg's train f1 score: 0.812164 + 0.000661418\tcv_agg's valid multi_logloss: 0.599397 + 0.00060911\tcv_agg's valid f1 score: 0.786133 + 0.00154415\n",
      "[350]\tcv_agg's train multi_logloss: 0.521961 + 0.000483221\tcv_agg's train f1 score: 0.820895 + 0.00117972\tcv_agg's valid multi_logloss: 0.579036 + 0.000766023\tcv_agg's valid f1 score: 0.790726 + 0.001597\n",
      "[400]\tcv_agg's train multi_logloss: 0.498918 + 0.000624091\tcv_agg's train f1 score: 0.827493 + 0.00127399\tcv_agg's valid multi_logloss: 0.563357 + 0.000805157\tcv_agg's valid f1 score: 0.796161 + 0.00048636\n",
      "[450]\tcv_agg's train multi_logloss: 0.479164 + 0.000760584\tcv_agg's train f1 score: 0.833707 + 0.00159821\tcv_agg's valid multi_logloss: 0.550905 + 0.000921514\tcv_agg's valid f1 score: 0.799121 + 0.000499254\n",
      "[500]\tcv_agg's train multi_logloss: 0.461997 + 0.000804503\tcv_agg's train f1 score: 0.839125 + 0.00163478\tcv_agg's valid multi_logloss: 0.54102 + 0.000967412\tcv_agg's valid f1 score: 0.802546 + 0.000384799\n",
      "[550]\tcv_agg's train multi_logloss: 0.446565 + 0.000865924\tcv_agg's train f1 score: 0.844103 + 0.00113644\tcv_agg's valid multi_logloss: 0.53296 + 0.000916124\tcv_agg's valid f1 score: 0.80529 + 0.000257559\n",
      "[600]\tcv_agg's train multi_logloss: 0.432501 + 0.000935767\tcv_agg's train f1 score: 0.849253 + 0.00108909\tcv_agg's valid multi_logloss: 0.526276 + 0.000938603\tcv_agg's valid f1 score: 0.806953 + 0.000403956\n"
     ]
    }
   ],
   "source": [
    "# Optimizing parameters on cross validation\n",
    "skf = StratifiedKFold(n_splits=3, shuffle=True, random_state=42)\n",
    "\n",
    "parameters = {\n",
    "    #default\n",
    "    \"objective\"    : \"multiclass\",\n",
    "    \"num_class\"    : 6,  # should be 9 when 'культура', 'технології', 'позитив' are back\n",
    "    \"learning_rate\": 0.03,\n",
    "    \"num_threads\"  : os.cpu_count() - 2,\n",
    "    \"seed\"         : 42,\n",
    "    \n",
    "    #regularization\n",
    "    \"feature_fraction\": 0.9,\n",
    "    \"bagging_fraction\": 0.9,\n",
    "    \"bagging_freq\"    : 1,\n",
    "    \"min_data_in_leaf\": 50,\n",
    "    \"num_leaves\"      : 5\n",
    "}\n",
    "\n",
    "lgb_train = lgb.Dataset(all_ds, label=headings, free_raw_data=False)\n",
    "\n",
    "result = lgb.cv(parameters, lgb_train, 1000,\n",
    "                folds=skf, early_stopping_rounds=10, verbose_eval=50, feval=my_fscore, eval_train_metric=True)"
   ]
  },
  {
   "cell_type": "code",
   "execution_count": 5,
   "metadata": {},
   "outputs": [],
   "source": [
    "# Training the model\n",
    "lgb_train = lgb.Dataset(train_ds, label=y_train, free_raw_data=False)\n",
    "\n",
    "gbm = lgb.train(parameters, lgb_train, num_boost_round = 1000)"
   ]
  },
  {
   "cell_type": "code",
   "execution_count": 8,
   "metadata": {},
   "outputs": [
    {
     "data": {
      "image/png": "[encoded data removed]",
      "text/plain": [
       "<Figure size 432x288 with 1 Axes>"
      ]
     },
     "metadata": {
      "needs_background": "light"
     },
     "output_type": "display_data"
    }
   ],
   "source": [
    "# Plotting the metric results\n",
    "lgb.plot_metric(evals_result, metric='f1 score')\n",
    "plt.show()"
   ]
  },
  {
   "cell_type": "code",
   "execution_count": 6,
   "metadata": {},
   "outputs": [
    {
     "name": "stdout",
     "output_type": "stream",
     "text": [
      "                   precision    recall  f1-score   support\n",
      "\n",
      "        економіка       0.74      0.66      0.70       247\n",
      "         кримінал       0.84      0.87      0.86       670\n",
      "міжнародні новини       0.81      0.87      0.84       424\n",
      "         політика       0.82      0.85      0.83       996\n",
      "            спорт       0.99      0.97      0.98       201\n",
      "      суспільство       0.73      0.64      0.68       462\n",
      "\n",
      "         accuracy                           0.82      3000\n",
      "        macro avg       0.82      0.81      0.82      3000\n",
      "     weighted avg       0.82      0.82      0.82      3000\n",
      "\n"
     ]
    }
   ],
   "source": [
    "# Predicting on test dataset\n",
    "predictions = gbm.predict(test_ds)\n",
    "print(classification_report(y_test, [np.argmax(i) for i in predictions], target_names=CLASSES))"
   ]
  },
  {
   "cell_type": "code",
   "execution_count": 7,
   "metadata": {},
   "outputs": [],
   "source": [
    "def get_prediction_stats(target_test, target_pred=None):\n",
    "    \"\"\"\n",
    "    Prints a map <column_name> -> number of samples.\n",
    "    If target_pred is provided also gives (<right_predictions>/total) stats.\n",
    "    \"\"\"\n",
    "    \n",
    "    if target_pred is None:\n",
    "        print(pd.Series(le.inverse_transform(target_test)).value_counts().sort_index())\n",
    "    else:\n",
    "        unique_columns = target_test.unique()\n",
    "        for column in unique_columns:\n",
    "            c_pred          = len([y for y, yy in zip(target_test, target_pred) if y == column == yy])\n",
    "            value_counts    = target_test.value_counts()[column]\n",
    "            percentage      = (c_pred/value_counts)*100\n",
    "            print(f'{le.inverse_transform([column])[0]:17s}: {value_counts:5d}, correctly predicted {c_pred:4d} ({percentage:.3f}%)')"
   ]
  },
  {
   "cell_type": "code",
   "execution_count": 8,
   "metadata": {},
   "outputs": [
    {
     "name": "stdout",
     "output_type": "stream",
     "text": [
      "економіка             2610\n",
      "кримінал              6596\n",
      "міжнародні новини     4406\n",
      "політика             10377\n",
      "спорт                 2256\n",
      "суспільство           4755\n",
      "dtype: int64\n"
     ]
    }
   ],
   "source": [
    "get_prediction_stats(headings)"
   ]
  },
  {
   "cell_type": "code",
   "execution_count": 9,
   "metadata": {},
   "outputs": [
    {
     "name": "stdout",
     "output_type": "stream",
     "text": [
      "міжнародні новини:   424, correctly predicted  369 (87.028%)\n",
      "суспільство      :   462, correctly predicted  294 (63.636%)\n",
      "спорт            :   201, correctly predicted  195 (97.015%)\n",
      "економіка        :   247, correctly predicted  163 (65.992%)\n",
      "політика         :   996, correctly predicted  847 (85.040%)\n",
      "кримінал         :   670, correctly predicted  585 (87.313%)\n"
     ]
    }
   ],
   "source": [
    "get_prediction_stats(pd.Series(y_test), target_pred=[np.argmax(i) for i in predictions])"
   ]
  },
  {
   "cell_type": "code",
   "execution_count": 34,
   "metadata": {},
   "outputs": [
    {
     "data": {
      "text/html": [
       "\n",
       "    <style>\n",
       "    table.eli5-weights tr:hover {\n",
       "        filter: brightness(85%);\n",
       "    }\n",
       "</style>\n",
       "\n",
       "\n",
       "\n",
       "    \n",
       "\n",
       "    \n",
       "\n",
       "    \n",
       "\n",
       "    \n",
       "\n",
       "    \n",
       "\n",
       "    \n",
       "\n",
       "\n",
       "    \n",
       "\n",
       "    \n",
       "\n",
       "    \n",
       "\n",
       "    \n",
       "\n",
       "    \n",
       "\n",
       "    \n",
       "\n",
       "\n",
       "    \n",
       "\n",
       "    \n",
       "\n",
       "    \n",
       "\n",
       "    \n",
       "\n",
       "    \n",
       "\n",
       "    \n",
       "\n",
       "\n",
       "    \n",
       "\n",
       "    \n",
       "\n",
       "    \n",
       "\n",
       "    \n",
       "\n",
       "    \n",
       "\n",
       "    \n",
       "\n",
       "\n",
       "\n",
       "\n",
       "    <div style=\"background-color: #fdd; padding: 0.5em;\">\n",
       "        Error: estimator <lightgbm.basic.Booster object at 0x0000028F50D010C8> is not supported\n",
       "    </div>\n"
      ],
      "text/plain": [
       "Explanation(estimator='<lightgbm.basic.Booster object at 0x0000028F50D010C8>', description=None, error='estimator <lightgbm.basic.Booster object at 0x0000028F50D010C8> is not supported', method=None, is_regression=False, targets=None, feature_importances=None, decision_tree=None, highlight_spaces=None, transition_features=None, image=None)"
      ]
     },
     "execution_count": 34,
     "metadata": {},
     "output_type": "execute_result"
    }
   ],
   "source": [
    "# Oops\n",
    "explain_prediction(gbm, train_ds.iloc[1])"
   ]
  },
  {
   "cell_type": "code",
   "execution_count": 10,
   "metadata": {},
   "outputs": [],
   "source": [
    "# Saving the model\n",
    "#model_json = gbm.dump_model()\n",
    "#\n",
    "#with open(os.path.join(PROJ_PATH, 'src', 'class_model_lgbm.json'), 'w', encoding='utf-8') as f:\n",
    "#    json.dump(model_json, f, indent=4)"
   ]
  }
 ],
 "metadata": {
  "kernelspec": {
   "display_name": "Python 3",
   "language": "python",
   "name": "python3"
  },
  "language_info": {
   "codemirror_mode": {
    "name": "ipython",
    "version": 3
   },
   "file_extension": ".py",
   "mimetype": "text/x-python",
   "name": "python",
   "nbconvert_exporter": "python",
   "pygments_lexer": "ipython3",
   "version": "3.7.6"
  }
 },
 "nbformat": 4,
 "nbformat_minor": 4
}
